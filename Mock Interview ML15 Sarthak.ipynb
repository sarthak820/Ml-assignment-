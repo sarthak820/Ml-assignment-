{
 "cells": [
  {
   "cell_type": "markdown",
   "id": "2f0b4889",
   "metadata": {},
   "source": [
    "# Mock Interview Test"
   ]
  },
  {
   "cell_type": "raw",
   "id": "422a09d3",
   "metadata": {},
   "source": [
    "1. Write a program which will find all numbers which are divisible by 7 but are not a multiple of 5 between 2000 and 3200 (both included) The numbers obtained should be printed in a comma separated sequence on a single line"
   ]
  },
  {
   "cell_type": "code",
   "execution_count": 8,
   "id": "e6bf0173",
   "metadata": {},
   "outputs": [
    {
     "name": "stdout",
     "output_type": "stream",
     "text": [
      "2002,2009,2016,2023,2037,2044,2051,2058,2072,2079,2086,2093,2107,2114,2121,2128,2142,2149,2156,2163,2177,2184,2191,2198,2212,2219,2226,2233,2247,2254,2261,2268,2282,2289,2296,2303,2317,2324,2331,2338,2352,2359,2366,2373,2387,2394,2401,2408,2422,2429,2436,2443,2457,2464,2471,2478,2492,2499,2506,2513,2527,2534,2541,2548,2562,2569,2576,2583,2597,2604,2611,2618,2632,2639,2646,2653,2667,2674,2681,2688,2702,2709,2716,2723,2737,2744,2751,2758,2772,2779,2786,2793,2807,2814,2821,2828,2842,2849,2856,2863,2877,2884,2891,2898,2912,2919,2926,2933,2947,2954,2961,2968,2982,2989,2996,3003,3017,3024,3031,3038,3052,3059,3066,3073,3087,3094,3101,3108,3122,3129,3136,3143,3157,3164,3171,3178,3192,3199\n"
     ]
    }
   ],
   "source": [
    "rslt = []\n",
    "for i in range(2000, 3201):\n",
    "    if i % 7 == 0 and i % 5 != 0:\n",
    "        rslt.append(str(i))\n",
    "\n",
    "print(','.join(rslt))\n"
   ]
  },
  {
   "cell_type": "raw",
   "id": "09d797b1",
   "metadata": {},
   "source": [
    "2. Write a program that accepts a sentence and calculate the number of upper case letters and lower case letters."
   ]
  },
  {
   "cell_type": "code",
   "execution_count": 10,
   "id": "29506c51",
   "metadata": {},
   "outputs": [
    {
     "name": "stdout",
     "output_type": "stream",
     "text": [
      "Enter a sentence: Hi My name IS Sarthak\n",
      "Original Sentence: Hi My name IS Sarthak\n",
      "Number of Uppercase Letters: 5\n",
      "Number of Lowercase Letters: 12\n"
     ]
    }
   ],
   "source": [
    "sentence = input(\"Enter a sentence: \")\n",
    "\n",
    "upper_case = sum(1 for char in sentence if char.isupper())\n",
    "lower_case = sum(1 for char in sentence if char.islower())\n",
    "\n",
    "print(\"Original Sentence:\", sentence)\n",
    "print(\"Number of Uppercase Letters:\", upper_case)\n",
    "print(\"Number of Lowercase Letters:\", lower_case)\n"
   ]
  },
  {
   "cell_type": "raw",
   "id": "73d388e5",
   "metadata": {},
   "source": [
    "3. You are given a train data set having 1000 columns and I million rows. The data set is based on a classification problem. Your manager has asked you to reduce the dimension of this data so that model\n",
    "computation time can be reduced. Your machine bus, memory constraints. What would you do? (You are free in make practical assumptions.)"
   ]
  },
  {
   "cell_type": "markdown",
   "id": "118d5d5b",
   "metadata": {},
   "source": [
    "   I would use a dimensionality reduction technique known as PCA that is Principal Component Analysis.\n",
    "\n",
    "It is a technique that transforms the original features into a new set of uncorrelated features, called principal components.\n",
    "\n",
    "The main motive of this techniques is to capture the maximum variance in the data with a reduced number of dimensions.\n",
    "\n",
    "PCA reduces the number of features while retaining as much of the original data's variability as possible.\n"
   ]
  },
  {
   "cell_type": "raw",
   "id": "18b709a3",
   "metadata": {},
   "source": [
    "4. You are given a data set on cancer detection. You've build a classification model and achieved an accuracy of 96%. Why shouldn't you be happy with your model performance? What can you do about it Explain print probability, likelihood and marginal likelihood in contest of  Naive Bayes algorithm?"
   ]
  },
  {
   "cell_type": "markdown",
   "id": "33eb7908",
   "metadata": {},
   "source": [
    "The reason behind my unhappiness would be\n",
    "If the dataset is imbalanced, where one class (e.g., non-cancer cases) significantly outweighs the other (e.g., cancer cases), high accuracy may not be a reliable metric. The model could be biased towards the majority class, leading to false assurances.\n",
    "\n",
    "Probability:\n",
    "Probability represents the likelihood of an event occurring. In Naive Bayes, it's about calculating the probability of a particular class given the observed data.\n"
   ]
  },
  {
   "cell_type": "raw",
   "id": "c25e00cc",
   "metadata": {},
   "source": [
    "5. You are working on a time series data set. You manager has asked you to build a high accuracy model. You start with the decision tree sigurithm, since you know it works fairly well on all kinds of data. Later, you tried a time series\n",
    "regression model and got higher accuracy than decision tree model. Can this happen? Why?"
   ]
  },
  {
   "cell_type": "markdown",
   "id": "06aa15d2",
   "metadata": {},
   "source": [
    "I think it's possible for a time series regression model to achieve higher accuracy than a decision tree model on time series data.\n",
    "\n",
    "Time series regression models are specifically designed to handle data where the order of observations matters, capturing temporal dependencies and trends.\n",
    "\n",
    "Decision trees can be sensitive to the noise and outliers present in time series data, leading to overfitting.\n"
   ]
  },
  {
   "cell_type": "raw",
   "id": "d4891218",
   "metadata": {},
   "source": [
    "6. You came to know that your model is suffering from low bias and high variance. Which algorithm should you use to tackle it? Why\n"
   ]
  },
  {
   "cell_type": "markdown",
   "id": "00fde277",
   "metadata": {},
   "source": [
    "When dealing with low bias and high variance, Random Forest is a suitable choice due to its ensemble nature, which tends to result in more robust models.\n",
    "\n",
    "Random Forest is an ensemble learning method that builds multiple decision trees and averages their predictions. It reduces variance by introducing randomness in the tree-building process, making each tree slightly different. The ensemble of diverse trees tends to have lower variance compared to a single decision tree.\n",
    "\n",
    "This helps in overfitting issues and improving the model's generalization performance on new, unseen data."
   ]
  },
  {
   "cell_type": "raw",
   "id": "1b9708b6",
   "metadata": {},
   "source": [
    "7. You are given a data set. The data set contains many variables, same of which are highly correlated and you know about it. Your manager has asked you to rum PCA Would you remove correlated variables first? Why?"
   ]
  },
  {
   "cell_type": "markdown",
   "id": "dcca7aab",
   "metadata": {},
   "source": [
    "Yes, we should consider removing highly correlated variables before running PCA.\n",
    "PCA assumes that variables are not highly correlated, as it seeks to find uncorrelated dimensions (principal components) that capture the maximum variance.\n",
    "\n",
    "When variables are highly correlated, it can lead to unstable or misleading principal components, affecting the quality of dimensionality reduction."
   ]
  },
  {
   "cell_type": "raw",
   "id": "4707c0ad",
   "metadata": {},
   "source": [
    "8. After analyzing the model, your manager has informed that your repression model is suffering from multicollinearity flow would you chack if he's true? Without losing any Information, can you still build a better model."
   ]
  },
  {
   "cell_type": "markdown",
   "id": "023f6c93",
   "metadata": {},
   "source": [
    "Yes, to check for multicollinearity, we can use techniques such as variance inflation factor (VIF) or correlation matrices to assess the correlation between predictor variables in your regression model. If multicollinearity is identified, there are strategies to build a better model without losing information:\n"
   ]
  },
  {
   "cell_type": "raw",
   "id": "bd5fffaf",
   "metadata": {},
   "source": [
    "9. When in Ridge regression favorable over Lasso regression? While working on a data set, how do you select important variables? Explain your inethods."
   ]
  },
  {
   "cell_type": "markdown",
   "id": "ab144248",
   "metadata": {},
   "source": [
    "Ridge Regression:\n",
    "There are many correlated predictors in the dataset.\n",
    "we have to shrink the coefficients towards zero but not necessarily to zero.\n",
    "\n",
    "Why:\n",
    "Ridge regression uses L2 regularization, adding the squared values of the coefficients to the loss function.\n",
    "This tends to distribute the impact of correlated variables more evenly, preventing coefficients from becoming too large.\n",
    "\n",
    "Lasso Regression:\n",
    "Feature selection is crucial, and you want to encourage sparsity by driving some coefficients to exactly zero.\n",
    "You have a high-dimensional dataset with potentially many irrelevant features.\n",
    "\n",
    "Why:\n",
    "Lasso regression uses L1 regularization, adding the absolute values of the coefficients to the loss function.\n",
    "This can lead to sparse solutions, effectively selecting a subset of important variables.\n"
   ]
  },
  {
   "cell_type": "raw",
   "id": "1d801b8c",
   "metadata": {},
   "source": [
    "10. Running a binary classification tree algorithm is the easy part. Do you know how does a tree splitting takes place Le how does the tree decide which variable to split at the\n",
    "root node and succeeding nodes?"
   ]
  },
  {
   "cell_type": "markdown",
   "id": "d5084b44",
   "metadata": {},
   "source": [
    "Root Node Splitting:\n",
    "At the root node, the algorithm evaluates all variables to find the one that best separates the data into distinct classes.\n",
    "It selects the variable that maximally reduces impurity or increases information gain.\n",
    "\n",
    "Decision Criteria:\n",
    "The decision criteria can vary based on the algorithm and impurity measure used (e.g., Gini impurity, entropy).\n",
    "\n",
    "Successive Node Splitting:\n",
    "The process repeats at each succeeding node. The algorithm evaluates variables not already used for splitting and selects the best one for further division.\n",
    "\n",
    "A binary classification tree decides which variable to split on at each node by selecting the variable that best separates the data into classes, aiming to create nodes with increased purity and more homogeneous class distributions. The process continues until a stopping criterion is met."
   ]
  },
  {
   "cell_type": "raw",
   "id": "d563f509",
   "metadata": {},
   "source": [
    "11. You've got a data set to work having p (no of variable) n (no. of observation) Why is OLS as had option to work with? Which techniques would be best tu use? Why?"
   ]
  },
  {
   "cell_type": "markdown",
   "id": "83a65380",
   "metadata": {},
   "source": [
    "Best Techniques:\n",
    "Linear Regression:\n",
    "Best for capturing linear relationships between variables when assumptions are met.\n",
    "\n",
    "Lasso or Ridge Regression:\n",
    "Helpful when dealing with multicollinearity or when regularization is needed to prevent overfitting.\n",
    "We would have to choose techniques based on the nature of the data, the relationships between variables, and the need for regularization."
   ]
  },
  {
   "cell_type": "raw",
   "id": "22ac9889",
   "metadata": {},
   "source": [
    "12. Define a function which can print a dictionary where the keys are numbers between 1 and 20 (both included)\n",
    "and the values are square of keys."
   ]
  },
  {
   "cell_type": "code",
   "execution_count": 15,
   "id": "6d80ff40",
   "metadata": {},
   "outputs": [
    {
     "name": "stdout",
     "output_type": "stream",
     "text": [
      "{1: 1, 2: 4, 3: 9, 4: 16, 5: 25, 6: 36, 7: 49, 8: 64, 9: 81, 10: 100, 11: 121, 12: 144, 13: 169, 14: 196, 15: 225, 16: 256, 17: 289, 18: 324, 19: 361, 20: 400}\n"
     ]
    }
   ],
   "source": [
    "def dictionary():\n",
    "    square_dict = {num: num**2 for num in range(1, 21)}\n",
    "    return square_dict\n",
    "\n",
    "# Example usage\n",
    "result_dict = dictionary()\n",
    "print(result_dict)\n"
   ]
  },
  {
   "cell_type": "raw",
   "id": "6bae2038",
   "metadata": {},
   "source": [
    "13. With a given tuple (1,2,3,4,5,6,7,8,9,10), write a program to print the first half values in one line and the last\n",
    "half values in one line. "
   ]
  },
  {
   "cell_type": "code",
   "execution_count": 16,
   "id": "535c084b",
   "metadata": {},
   "outputs": [
    {
     "name": "stdout",
     "output_type": "stream",
     "text": [
      "First Half: (1, 2, 3, 4, 5)\n",
      "Last Half: (6, 7, 8, 9, 10)\n"
     ]
    }
   ],
   "source": [
    "def tuple(input_tuple):\n",
    "    half_len = len(input_tuple) // 2\n",
    "    first_half = input_tuple[:half_len]\n",
    "    last_half = input_tuple[half_len:]\n",
    "\n",
    "    print(\"First Half:\", first_half)\n",
    "    print(\"Last Half:\", last_half)\n",
    "\n",
    "# Example usage\n",
    "given_tuple = (1, 2, 3, 4, 5, 6, 7, 8, 9, 10)\n",
    "tuple(given_tuple)\n"
   ]
  },
  {
   "cell_type": "raw",
   "id": "058775de",
   "metadata": {},
   "source": [
    "14. Please write a programs to randomly generate a list with 5 even numbers between 100 and 200 inclusive"
   ]
  },
  {
   "cell_type": "code",
   "execution_count": 20,
   "id": "e33d61be",
   "metadata": {},
   "outputs": [
    {
     "name": "stdout",
     "output_type": "stream",
     "text": [
      "[100, 102, 104, 106, 108]\n"
     ]
    }
   ],
   "source": [
    "def generate_even_numbers():\n",
    "    even_numbers = [num for num in range(100, 201, 2)]\n",
    "    return even_numbers[:5]\n",
    "\n",
    "# Example usage\n",
    "result_list = generate_even_numbers()\n",
    "print(result_list)\n"
   ]
  },
  {
   "cell_type": "raw",
   "id": "41f3292d",
   "metadata": {},
   "source": [
    "15. Define a class Person and its own child lasser Male and Female. All classes have a method \"getGender\" which can print: Define a class Person and its own child lasser Male and Female. All classes have a method \"getGender\" which can print \"Male\" for Male class and \"Female\" for female class"
   ]
  },
  {
   "cell_type": "code",
   "execution_count": null,
   "id": "6a603e31",
   "metadata": {},
   "outputs": [],
   "source": []
  },
  {
   "cell_type": "code",
   "execution_count": null,
   "id": "88994ca5",
   "metadata": {},
   "outputs": [],
   "source": []
  }
 ],
 "metadata": {
  "kernelspec": {
   "display_name": "Python 3 (ipykernel)",
   "language": "python",
   "name": "python3"
  },
  "language_info": {
   "codemirror_mode": {
    "name": "ipython",
    "version": 3
   },
   "file_extension": ".py",
   "mimetype": "text/x-python",
   "name": "python",
   "nbconvert_exporter": "python",
   "pygments_lexer": "ipython3",
   "version": "3.9.16"
  }
 },
 "nbformat": 4,
 "nbformat_minor": 5
}

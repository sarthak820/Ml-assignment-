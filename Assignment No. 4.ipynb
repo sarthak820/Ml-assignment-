{
 "cells": [
  {
   "cell_type": "code",
   "execution_count": 1,
   "id": "783c821c",
   "metadata": {},
   "outputs": [
    {
     "name": "stdout",
     "output_type": "stream",
     "text": [
      "length in cm 7\n",
      "breadth in cm 9\n",
      "Area of Rectangle is: 63 cm^2\n"
     ]
    }
   ],
   "source": [
    "#1)Wap Area Of Rectangle \n",
    "l=int(input(\"length in cm \"))\n",
    "b=int(input(\"breadth in cm \"))\n",
    "a=l*b\n",
    "print(\"Area of Rectangle is:\",a,\"cm^2\")"
   ]
  },
  {
   "cell_type": "code",
   "execution_count": 2,
   "id": "356cac0c",
   "metadata": {},
   "outputs": [
    {
     "name": "stdout",
     "output_type": "stream",
     "text": [
      "enter radius4\n",
      "Area of circle is  50.24\n"
     ]
    }
   ],
   "source": [
    "#2)Wap Area Of Circle\n",
    "r=int(input('enter radius'))\n",
    "a=3.14*r*r\n",
    "print(\"Area of circle is \",a)"
   ]
  },
  {
   "cell_type": "code",
   "execution_count": 3,
   "id": "85328285",
   "metadata": {},
   "outputs": [
    {
     "name": "stdout",
     "output_type": "stream",
     "text": [
      "enter length7\n",
      "enter breadth3\n",
      "enter height5\n",
      "The Area of cubiod is  142\n"
     ]
    }
   ],
   "source": [
    "#3)Wap Area Of Cuboid\n",
    "l=int(input('enter length'))\n",
    "b=int(input('enter breadth'))\n",
    "h=int(input('enter height'))\n",
    "a=2*(l*b+b*h+h*l)\n",
    "print(\"The Area of cubiod is \",a)"
   ]
  },
  {
   "cell_type": "code",
   "execution_count": 4,
   "id": "6a26199f",
   "metadata": {},
   "outputs": [
    {
     "name": "stdout",
     "output_type": "stream",
     "text": [
      "enter length of cube5\n",
      "the area of cube is 150\n"
     ]
    }
   ],
   "source": [
    "#4)Wap Area Of Cube\n",
    "a=int(input('enter length of cube'))\n",
    "x=6*(a*a)\n",
    "print(\"the area of cube is\",x)"
   ]
  },
  {
   "cell_type": "code",
   "execution_count": 5,
   "id": "d2ca41fa",
   "metadata": {},
   "outputs": [
    {
     "name": "stdout",
     "output_type": "stream",
     "text": [
      "enter radius4\n",
      "enter height12\n",
      "your c.s.a.is: 301.44\n"
     ]
    }
   ],
   "source": [
    "#5)Wap Area Of CSA Of Cylinder\n",
    "r=int(input('enter radius'))\n",
    "h=int(input('enter height'))\n",
    "a=2*(3.14*(r*h))\n",
    "print(\"your c.s.a.is:\",a)"
   ]
  },
  {
   "cell_type": "code",
   "execution_count": null,
   "id": "cd6c794a",
   "metadata": {},
   "outputs": [],
   "source": []
  },
  {
   "cell_type": "code",
   "execution_count": 7,
   "id": "05007b13",
   "metadata": {},
   "outputs": [
    {
     "name": "stdout",
     "output_type": "stream",
     "text": [
      "enter radius4\n",
      "enter length6\n",
      "csa is: 75.36\n"
     ]
    }
   ],
   "source": [
    "#7)Wap Area Of CSA Of Cone\n",
    "r=int(input('enter radius'))\n",
    "l=int(input('enter length'))\n",
    "a=3.14*r*l\n",
    "print(\"csa is:\",a)"
   ]
  },
  {
   "cell_type": "code",
   "execution_count": 8,
   "id": "84a4a571",
   "metadata": {},
   "outputs": [
    {
     "name": "stdout",
     "output_type": "stream",
     "text": [
      "enter radius4\n",
      "enter slant height3\n",
      "the tsa is: 87.92\n"
     ]
    }
   ],
   "source": [
    "#8)Wap Area Of TSA Of Right Circular Cone\n",
    "r=int(input('enter radius'))\n",
    "l=int(input('enter slant height'))\n",
    "a=3.14*r*(l+r)\n",
    "print(\"the tsa is:\",a)"
   ]
  },
  {
   "cell_type": "code",
   "execution_count": null,
   "id": "0667ef00",
   "metadata": {},
   "outputs": [],
   "source": [
    "#9) Wap TSA Of Sphere:\n",
    "r=int(input('enter radius'))\n",
    "a=4*(3.14*(r*r))\n",
    "print(\"tsa of sphere is:\",a)"
   ]
  },
  {
   "cell_type": "code",
   "execution_count": null,
   "id": "7d0e884b",
   "metadata": {},
   "outputs": [],
   "source": [
    "#10)Wap Volume Of Cuboid\n",
    "l=int(input('enter length'))\n",
    "b=int(input('enter breadth'))\n",
    "h=int(input('enter height'))\n",
    "a=l*b*h\n",
    "print(\"volume of cuboid is:\",a)"
   ]
  },
  {
   "cell_type": "code",
   "execution_count": null,
   "id": "2d3f8c3a",
   "metadata": {},
   "outputs": [],
   "source": [
    "#11)Wap Volume Of Cube\n",
    "l=int(input('enter length'))\n",
    "a=l*l*l\n",
    "print(\"volume of cube is:\",a)"
   ]
  },
  {
   "cell_type": "code",
   "execution_count": null,
   "id": "1f6e3921",
   "metadata": {},
   "outputs": [],
   "source": [
    "#12)Wap Volume Of Cylinder\n",
    "r=int(input('enter radius'))\n",
    "h=int(input('enter height'))\n",
    "v=3.14*(r*r)*h\n",
    "print(\"volume is:\",v)"
   ]
  },
  {
   "cell_type": "code",
   "execution_count": null,
   "id": "883fcf25",
   "metadata": {},
   "outputs": [],
   "source": [
    "#13)Wap Volume Of Cone\n",
    "r=int(input('enter radius'))\n",
    "h=int(input('enter height'))\n",
    "a=1/3*(3.14*(r*r)*h)\n",
    "print(\"volume is:\",a)"
   ]
  },
  {
   "cell_type": "code",
   "execution_count": null,
   "id": "9b8b4301",
   "metadata": {},
   "outputs": [],
   "source": [
    "#14)Wap Volume Of Sphere\n",
    "r=int(input('enter radius'))\n",
    "v=4/3*(3.14*(r*r*r))\n",
    "print(\"volume is:\",v)"
   ]
  },
  {
   "cell_type": "code",
   "execution_count": null,
   "id": "0c58a7e8",
   "metadata": {},
   "outputs": [],
   "source": [
    "#15)Wap Perimeter Of Rectangle  \n",
    "l=int(input('enter length in cm'))\n",
    "b=int(input('enter breadth in cm'))\n",
    "a=2*(l+b)\n",
    "print(\"perimeter of rectangle is:\",a,\"cm\")"
   ]
  },
  {
   "cell_type": "code",
   "execution_count": null,
   "id": "3a993d6f",
   "metadata": {},
   "outputs": [],
   "source": [
    "#16)Wap Area Of Square\n",
    "A=int(input('enter length in cm'))\n",
    "x=A*A\n",
    "print(\"your area of square is:\",x,\"cm^2\")"
   ]
  },
  {
   "cell_type": "code",
   "execution_count": null,
   "id": "124c48b9",
   "metadata": {},
   "outputs": [],
   "source": [
    "#17)Wap Area Of Triangle\n",
    "b=int(input('enter base'))\n",
    "h=int(input('enter height'))\n",
    "a=1/2*(b*h)\n",
    "print(\"your area is:\",a,\"cm^2\")"
   ]
  },
  {
   "cell_type": "code",
   "execution_count": null,
   "id": "06c9de3c",
   "metadata": {},
   "outputs": [],
   "source": [
    "#18)Wap Greatest Number In Three Number\n",
    "a=int(input('enter first no'))\n",
    "b=int(input('enter second no'))\n",
    "c=int(input('enter third no'))\n",
    "if a>b:\n",
    "    if a>c:\n",
    "        print('the greatest no is',a)\n",
    "    else:\n",
    "        print('the greatest no is',c)\n",
    "else:\n",
    "    if b>c:\n",
    "        print('the greatest no is',b)\n",
    "    else:\n",
    "        print('the greatest no is',c)\n"
   ]
  },
  {
   "cell_type": "code",
   "execution_count": null,
   "id": "15d2fdb8",
   "metadata": {},
   "outputs": [],
   "source": [
    "#19)Wap Perimeter Of Triangle\n",
    "a=int(input('enter first side of triangle'))\n",
    "b=int(input('enter second side of triangle'))\n",
    "c=int(input('enter third side of triangle'))\n",
    "perimeter=a+b+c\n",
    "print(\"the perimeter is\",perimeter)"
   ]
  },
  {
   "cell_type": "code",
   "execution_count": null,
   "id": "1a5c579d",
   "metadata": {},
   "outputs": [],
   "source": [
    "#Wap Greatest Number In Four Number\n",
    "\n",
    "a=float(input(\"enter first no\"))\n",
    "b=float(input(\"enter second no\"))\n",
    "c=float(input(\"enter third no\"))\n",
    "d=float(input(\"enter fourth no\"))\n",
    "\n",
    "if (a>b and a>c and a>d):\n",
    "    print(\"greatest number is:\",a)\n",
    "elif (b>c and b>d):\n",
    "    print(\"greatest number is:\",b)\n",
    "elif (c>d):\n",
    "    print(\"greatest number is:\",c)\n",
    "elif(d>c):\n",
    "    print(\"greatest number is:\",d)\n",
    "else:\n",
    "    print(\"Either any two values or all the four values are equal\")"
   ]
  },
  {
   "cell_type": "code",
   "execution_count": null,
   "id": "81c1ec9a",
   "metadata": {},
   "outputs": [],
   "source": [
    "#21)Wap To Check Division In Result\n",
    "\n",
    "a=eval(input(\"enter marks out of 300 \"))\n",
    "b=a/300*100\n",
    "print(\"percentage is\", b, \"%\")\n",
    "\n",
    "if(a>300):\n",
    "    print(\"you entered a wrong marks\")\n",
    "elif b>60:\n",
    "    print (\"your division is first\")\n",
    "elif (b>50 and b<53):\n",
    "    print(\"your division is second\")\n",
    "elif (b>33 and b<50):\n",
    "    print(\"your division is third\")\n",
    "else:\n",
    "    print(\"fail\")"
   ]
  },
  {
   "cell_type": "code",
   "execution_count": null,
   "id": "52ed74fe",
   "metadata": {},
   "outputs": [],
   "source": [
    "#22)Wap To Check Age Criteria\n",
    "\n",
    "y=int(input(\"enter your age \"))\n",
    "if (y>0 and y<12): \n",
    "    print(\"kid\")\n",
    "elif(y>=12 and y<19):\n",
    "    print(\"teenager\")\n",
    "elif (y>19 and y<30): \n",
    "    print(\"young\")\n",
    "elif(y>30and y<45):\n",
    "    print(\"mature\")\n",
    "elif(y>45 and у<60):\n",
    "    print(\"experienced\")\n",
    "elif(y>60 and y<75): \n",
    "    print(\"old\")\n",
    "elif(y>75): \n",
    "    print(\"senior citizen\")"
   ]
  },
  {
   "cell_type": "code",
   "execution_count": null,
   "id": "7b5e18dc",
   "metadata": {},
   "outputs": [],
   "source": [
    "#23)Wap Sum Of Nth Number\n",
    "n=int(input(\"Enter limit\"))\n",
    "s=0\n",
    "for c in range(1,n):\n",
    "    s=c+s\n",
    "print(\"the sum is\",s)"
   ]
  },
  {
   "cell_type": "code",
   "execution_count": null,
   "id": "533a25f9",
   "metadata": {},
   "outputs": [],
   "source": [
    "#24)Wap To Check The Value Of Factorial \n",
    "a=int(input(\"enter a number\"))\n",
    "factorial =1\n",
    "if a<0:\n",
    "    print(\"sorry, factorial does not exist for negative number\")\n",
    "elif a==0:\n",
    "    print(\"the factorial of 0 is 1\")\n",
    "else:\n",
    "    for i in range (1,a+1):\n",
    "        factorial=factorial*i\n",
    "    print(\"the factorial of\",a,\"is\",factorial)"
   ]
  },
  {
   "cell_type": "code",
   "execution_count": null,
   "id": "56e97625",
   "metadata": {},
   "outputs": [],
   "source": [
    "#25)Wap To Print Multiplication Table\n",
    "a=int(input('show the multiplication table of'))\n",
    "for i in range(1,11):\n",
    "    print(a,\"x\",i,\"=\",a*i)"
   ]
  },
  {
   "cell_type": "code",
   "execution_count": null,
   "id": "5e19fcc3",
   "metadata": {},
   "outputs": [],
   "source": [
    "#26)Wap To Print Opposite Right Angle Triangle\n",
    "num=int(input('enter the number rows'))\n",
    "for i in range (num,0,-1):\n",
    "    for j in range(0,i):\n",
    "        print(\"*\",end=\"\")\n",
    "    print()"
   ]
  },
  {
   "cell_type": "code",
   "execution_count": null,
   "id": "dafa9cf0",
   "metadata": {},
   "outputs": [],
   "source": [
    "#27)Wap To Print 1,22,333,4444\n",
    "n=int(input(\"enter the no of rows\"))\n",
    "for i in range(1,n+1):\n",
    "    for j in range(1,i+1):\n",
    "        print(i,end=\"\")\n",
    "    print()"
   ]
  },
  {
   "cell_type": "code",
   "execution_count": null,
   "id": "a8ce7f4a",
   "metadata": {},
   "outputs": [],
   "source": [
    "#28)Wap To Print Star Pattern Of Opposite Triangle\n",
    "num=int(input(\"enter the number rows\"))\n",
    "for i in range (0,num):\n",
    "    for j in range (0,num-i):\n",
    "        print(\" \",end=\"\")\n",
    "    for k in range(0,i+1):\n",
    "        print(\"*\",end=\"\")\n",
    "    print(\"\")"
   ]
  },
  {
   "cell_type": "code",
   "execution_count": null,
   "id": "2322443b",
   "metadata": {},
   "outputs": [],
   "source": [
    "#29)Wap To Print Pattern 1,12,123\n",
    "n=int(input(\"enter the no of rows\"))\n",
    "for i in range(1,n+1):\n",
    "    for j in range(1,i+1):\n",
    "        print(j,end=\"\")\n",
    "    print()"
   ]
  },
  {
   "cell_type": "code",
   "execution_count": null,
   "id": "009e351d",
   "metadata": {},
   "outputs": [],
   "source": [
    "#30)Wap To Print Fibonacci Series Use While Loop\n",
    "a=eval (input(\"enter the range\"))\n",
    "i=0\n",
    "first_value = 0\n",
    "second_value=1\n",
    "while (i<a): \n",
    "    if(i<=1):\n",
    "        Next=i\n",
    "    else:\n",
    "        Next=first_value + second_value\n",
    "        first_value =second_value\n",
    "        second_value=Next\n",
    "    print(Next)\n",
    "    i=i+1"
   ]
  },
  {
   "cell_type": "code",
   "execution_count": null,
   "id": "1c24a36e",
   "metadata": {},
   "outputs": [],
   "source": [
    "#31)Wap To Print Fibonacci Series Use For Loop\n",
    "number=int(input(\"enter the range\"))\n",
    "first_value=0\n",
    "second_value=1\n",
    "for num in range(0,number):\n",
    "    if (num<=1):\n",
    "        NEXT=num\n",
    "    else:\n",
    "        NEXT=first_value + second_value\n",
    "        first_value=second_value\n",
    "        second_value=NEXT  \n",
    "    print(NEXT)"
   ]
  },
  {
   "cell_type": "code",
   "execution_count": null,
   "id": "e20a1983",
   "metadata": {},
   "outputs": [],
   "source": [
    "#32)Wap To Print Pattern A,AB,ABC\n",
    "ch=str(input(\"enter a character\"))\n",
    "a=ord(ch)\n",
    "for x in range(65,a+1):\n",
    "    for c in range(65,x+1):\n",
    "        print(chr(c),end=\"\")\n",
    "    print(\"\")\n"
   ]
  },
  {
   "cell_type": "code",
   "execution_count": null,
   "id": "eec02209",
   "metadata": {},
   "outputs": [],
   "source": [
    "#33)Wap To Calculate Of X^n By For Loop\n",
    "x=int(input(\"enter no\"))\n",
    "b=int(input('enter power'))\n",
    "y=x\n",
    "for a in range (0,b-1):\n",
    "    y=x*y\n",
    "    print(y)"
   ]
  },
  {
   "cell_type": "code",
   "execution_count": null,
   "id": "20f43484",
   "metadata": {},
   "outputs": [],
   "source": [
    "#34)Wap To Calculate Of X^n\n",
    "a=int(input(\"enter no\"))\n",
    "b=int(input('enter power'))\n",
    "c=a**b\n",
    "print(c)"
   ]
  },
  {
   "cell_type": "code",
   "execution_count": null,
   "id": "782ca5af",
   "metadata": {},
   "outputs": [],
   "source": [
    "#35)Wap To Print the Integer Is Palindrome Or Not Palindrome\n",
    "n=int(input(\"enter number\"))\n",
    "x=n\n",
    "r=0\n",
    "while n>0:\n",
    "    d=n%10\n",
    "    r=r*10+d\n",
    "    n=n//10\n",
    "if x==r:\n",
    "    print(\"the number is palindrome\")\n",
    "else:\n",
    "    print(\"the number is not palindrone\")"
   ]
  },
  {
   "cell_type": "code",
   "execution_count": null,
   "id": "8f8a3328",
   "metadata": {},
   "outputs": [],
   "source": [
    "#36)Wap To Print Factorial Of List\n",
    "a=[]\n",
    "fact=[]\n",
    "ch=\"y\"\n",
    "while ch==\"y\" or ch==\"Y\":\n",
    "    item=int(input(\"enter the element of list \"))\n",
    "    a.append(item)\n",
    "    ch=input(\"do you want to enter more element :\")\n",
    "print(\"the list is:\",a)\n",
    "for i in a:\n",
    "    f=1\n",
    "    for j in range(1,i+1):\n",
    "        f=f*j\n",
    "    fact.append(f)\n",
    "print(\"the factorial of each element is:\",fact)"
   ]
  },
  {
   "cell_type": "code",
   "execution_count": null,
   "id": "2c4b23d9",
   "metadata": {},
   "outputs": [],
   "source": [
    "#37)Wap To Print Pascal Triangle\n",
    "n=int(input(\"enter rows \"))\n",
    "for i in range (0,n):\n",
    "    for j in range(0,n-i-1):\n",
    "        print(end=\" \")\n",
    "    for j in range(0,i+1):\n",
    "        print(\"*\",end=\" \")\n",
    "    print()"
   ]
  },
  {
   "cell_type": "code",
   "execution_count": null,
   "id": "b4312143",
   "metadata": {},
   "outputs": [],
   "source": [
    "#38)Wap To Create A List Of Values Inputted By User\n",
    "a=eval(input(\"enter limit\"))\n",
    "n=[]\n",
    "for a in range(1,a+1):\n",
    "    a=eval(input(\"enter element\"))\n",
    "    n.append(a)\n",
    "print(n)"
   ]
  },
  {
   "cell_type": "code",
   "execution_count": null,
   "id": "564e8911",
   "metadata": {},
   "outputs": [],
   "source": [
    "#39)Wap To Create A List Of Values inputted By User And Sort In Increasing Order\n",
    "a=eval(input(\"enter limit\"))\n",
    "lst=[]\n",
    "for a in range(1,a+1):\n",
    "    a=eval(input(\"enter element \"))\n",
    "    lst.append(a)\n",
    "print(lst)\n",
    "l=len(lst)\n",
    "for i in range(l):\n",
    "    for j in range(0,l-i-1):\n",
    "        if lst[j]>lst[j+1]:\n",
    "            temp=lst[j]\n",
    "            lst[j]=lst[j+1]\n",
    "            lst[j+1]=temp\n",
    "print(\"after sorting the list is\")\n",
    "print(lst)"
   ]
  },
  {
   "cell_type": "code",
   "execution_count": null,
   "id": "ffeb3402",
   "metadata": {},
   "outputs": [],
   "source": [
    "#40)Sorting In Ascending Order Use Bubble Sort\n",
    "a=eval(input(\"enter limit\"))\n",
    "lst=[]\n",
    "for a in range(1,a+1):\n",
    "    a=eval(input(\"enter element \"))\n",
    "    lst.append(a)\n",
    "print(lst)\n",
    "l=len(lst)\n",
    "for i in range(l):\n",
    "    for j in range(0,l-i-1):\n",
    "        if lst[j]>lst[j+1]:\n",
    "            temp=lst[j]\n",
    "            lst[j]=lst[j+1]\n",
    "            lst[j+1]=temp\n",
    "print(\"after sorting the list is\")\n",
    "print(lst)"
   ]
  },
  {
   "cell_type": "code",
   "execution_count": null,
   "id": "f828772d",
   "metadata": {},
   "outputs": [],
   "source": [
    "#41)Wap In Python To Create A Phone Dictionary\n",
    "n=int(input(\"enter limit\"))\n",
    "m={}\n",
    "mob=0\n",
    "name=\"\"\n",
    "i=0\n",
    "for i in range(0,n):\n",
    "    mob=int (input(\"enter mobile number \"))\n",
    "    name=str(input(\"enter name \"))\n",
    "    z2=dict({mob:name})\n",
    "    m.update (z2)\n",
    "print(m)\n",
    "n=int(input(\"enter the no to search in dictionary\"))\n",
    "print(\" name of person is \",m[n])"
   ]
  },
  {
   "cell_type": "code",
   "execution_count": null,
   "id": "dd5554c4",
   "metadata": {},
   "outputs": [],
   "source": [
    "#42)Wap To Find Given Number Is Prime Or Not\n",
    "num=int(input(\"enter number\"))\n",
    "lim=int(num/2)+1\n",
    "for i in range (2,lim):\n",
    "    rem=num%i\n",
    "    if rem==0:\n",
    "        print(num,\"is not prime number\")\n",
    "        break\n",
    "    else:\n",
    "        print(num,\"is prime number\")"
   ]
  },
  {
   "cell_type": "code",
   "execution_count": null,
   "id": "d7bcb3e0",
   "metadata": {},
   "outputs": [],
   "source": [
    "#43)Wap To Find Given Number Is Even Or Odd\n",
    "a=int(input(\"enter number\"))\n",
    "r=a%2\n",
    "if r==0:\n",
    "    print(a,\"is even number\")\n",
    "elif r>0:\n",
    "    print(a,\"is odd number\")\n",
    "else:\n",
    "    print(\"you enter a number 0 or less than 0\")"
   ]
  },
  {
   "cell_type": "code",
   "execution_count": null,
   "id": "2846c924",
   "metadata": {},
   "outputs": [],
   "source": [
    "#44)Wap To Create A Tuple Of Values Inputed by User\n",
    "a=()\n",
    "l=[]\n",
    "n=int(input(\"enter limit\"))\n",
    "for i in range (0,n):\n",
    "    item=int(input(\"enter element\"))\n",
    "    l.append(item)\n",
    "a=a+tuple(l)\n",
    "print(\"tuple is\",a)"
   ]
  },
  {
   "cell_type": "code",
   "execution_count": null,
   "id": "7060caeb",
   "metadata": {},
   "outputs": [],
   "source": [
    "#45)Wap To Reverse An Integer\n",
    "n=int(input(\"enter the integer\"))\n",
    "x=n\n",
    "r=0\n",
    "while n>0:\n",
    "    d=n%10\n",
    "    r=r*10+d\n",
    "    n=n//10\n",
    "print(\"the reversed integer is:\",r)"
   ]
  }
 ],
 "metadata": {
  "kernelspec": {
   "display_name": "Python 3 (ipykernel)",
   "language": "python",
   "name": "python3"
  },
  "language_info": {
   "codemirror_mode": {
    "name": "ipython",
    "version": 3
   },
   "file_extension": ".py",
   "mimetype": "text/x-python",
   "name": "python",
   "nbconvert_exporter": "python",
   "pygments_lexer": "ipython3",
   "version": "3.9.16"
  }
 },
 "nbformat": 4,
 "nbformat_minor": 5
}
